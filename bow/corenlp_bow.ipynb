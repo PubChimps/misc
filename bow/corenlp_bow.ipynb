{
 "cells": [
  {
   "cell_type": "code",
   "execution_count": 2,
   "metadata": {},
   "outputs": [],
   "source": [
    "f = open('lifeonmars.txt')"
   ]
  },
  {
   "cell_type": "code",
   "execution_count": 3,
   "metadata": {},
   "outputs": [],
   "source": [
    "lines = f.readlines()"
   ]
  },
  {
   "cell_type": "code",
   "execution_count": 44,
   "metadata": {},
   "outputs": [],
   "source": [
    "verses = lines[:12] + lines[20:32]"
   ]
  },
  {
   "cell_type": "code",
   "execution_count": 45,
   "metadata": {},
   "outputs": [
    {
     "data": {
      "text/plain": [
       "[\"It's a God-awful small affair\\n\",\n",
       " 'To the girl with the mousy hair\\n',\n",
       " 'But her mummy is yelling no\\n',\n",
       " 'And her daddy has told her to go\\n',\n",
       " 'But her friend is nowhere to be seen\\n',\n",
       " 'Now she walks through her sunken dream\\n',\n",
       " 'To the seat with the clearest view\\n',\n",
       " \"And she's hooked to the silver screen\\n\",\n",
       " 'But the film is a saddening bore\\n',\n",
       " \"For she's lived it ten times or more\\n\",\n",
       " 'She could spit in the eyes of fools\\n',\n",
       " 'As they ask her to focus on\\n',\n",
       " \"It's on America's tortured brow\\n\",\n",
       " 'That Mickey Mouse has grown up a cow\\n',\n",
       " 'Now the workers have struck for fame\\n',\n",
       " \"'Cause Lennon's on sale again\\n\",\n",
       " 'See the mice in their million hordes\\n',\n",
       " 'From Ibiza to the Norfolk Broads\\n',\n",
       " 'Rule Britannia is out of bounds\\n',\n",
       " 'To my mother, my dog, and clowns\\n',\n",
       " 'But the film is a saddening bore\\n',\n",
       " \"'Cause I wrote it ten times or more\\n\",\n",
       " \"It's about to be writ again\\n\",\n",
       " 'As I ask you to focus on\\n']"
      ]
     },
     "execution_count": 45,
     "metadata": {},
     "output_type": "execute_result"
    }
   ],
   "source": [
    "verses"
   ]
  },
  {
   "cell_type": "code",
   "execution_count": 42,
   "metadata": {},
   "outputs": [],
   "source": [
    "chorus = lines[12:20] + lines[32:]"
   ]
  },
  {
   "cell_type": "code",
   "execution_count": 43,
   "metadata": {},
   "outputs": [
    {
     "data": {
      "text/plain": [
       "['Sailors fighting in the dance hall\\n',\n",
       " 'Oh man, look at those cavemen go\\n',\n",
       " \"It's the freakiest show\\n\",\n",
       " 'Take a look at the lawman\\n',\n",
       " 'Beating up the wrong guy\\n',\n",
       " \"Oh man, wonder if he'll ever know\\n\",\n",
       " \"He's in the best selling show\\n\",\n",
       " 'Is there life on Mars?\\n',\n",
       " 'Sailors fighting in the dance hall\\n',\n",
       " 'Oh man, look at those cavemen go\\n',\n",
       " \"It's the freakiest show\\n\",\n",
       " 'Take a look at the lawman\\n',\n",
       " 'Beating up the wrong guy\\n',\n",
       " \"Oh man, wonder if he'll ever know\\n\",\n",
       " \"He's in the best selling show\\n\",\n",
       " 'Is there life on Mars?\\n']"
      ]
     },
     "execution_count": 43,
     "metadata": {},
     "output_type": "execute_result"
    }
   ],
   "source": [
    "chorus"
   ]
  },
  {
   "cell_type": "code",
   "execution_count": 46,
   "metadata": {},
   "outputs": [],
   "source": [
    "data = []\n",
    "\n",
    "for i in verses:\n",
    "    data.append({\"class\":\"verse\", \"sentence\":i})\n",
    "    \n",
    "for i in chorus:\n",
    "    data.append({\"class\":\"chorus\", \"sentence\":i})\n"
   ]
  },
  {
   "cell_type": "code",
   "execution_count": 55,
   "metadata": {},
   "outputs": [
    {
     "name": "stdout",
     "output_type": "stream",
     "text": [
      "Requirement already satisfied: stanford-corenlp in /anaconda3/lib/python3.6/site-packages (3.8.0)\n",
      "Requirement already satisfied: requests>=2.10.0 in /anaconda3/lib/python3.6/site-packages (from stanford-corenlp) (2.18.4)\n",
      "Requirement already satisfied: corenlp-protobuf>=3.8.0 in /anaconda3/lib/python3.6/site-packages (from stanford-corenlp) (3.8.0)\n",
      "Requirement already satisfied: chardet<3.1.0,>=3.0.2 in /anaconda3/lib/python3.6/site-packages (from requests>=2.10.0->stanford-corenlp) (3.0.4)\n",
      "Requirement already satisfied: idna<2.7,>=2.5 in /anaconda3/lib/python3.6/site-packages (from requests>=2.10.0->stanford-corenlp) (2.6)\n",
      "Requirement already satisfied: urllib3<1.23,>=1.21.1 in /anaconda3/lib/python3.6/site-packages (from requests>=2.10.0->stanford-corenlp) (1.22)\n",
      "Requirement already satisfied: certifi>=2017.4.17 in /anaconda3/lib/python3.6/site-packages (from requests>=2.10.0->stanford-corenlp) (2018.1.18)\n",
      "Requirement already satisfied: protobuf in /anaconda3/lib/python3.6/site-packages (from corenlp-protobuf>=3.8.0->stanford-corenlp) (3.6.1)\n",
      "Requirement already satisfied: setuptools in /anaconda3/lib/python3.6/site-packages (from protobuf->corenlp-protobuf>=3.8.0->stanford-corenlp) (39.2.0)\n",
      "Requirement already satisfied: six>=1.9 in /anaconda3/lib/python3.6/site-packages (from protobuf->corenlp-protobuf>=3.8.0->stanford-corenlp) (1.11.0)\n"
     ]
    }
   ],
   "source": [
    "!pip install stanford-corenlp"
   ]
  },
  {
   "cell_type": "code",
   "execution_count": 7,
   "metadata": {},
   "outputs": [],
   "source": [
    "import corenlp\n"
   ]
  },
  {
   "cell_type": "code",
   "execution_count": 17,
   "metadata": {},
   "outputs": [
    {
     "name": "stdout",
     "output_type": "stream",
     "text": [
      "env: CORENLP_HOME=~/Downloads/stanford-corenlp-full-2018-02-27/\n"
     ]
    }
   ],
   "source": [
    "%env CORENLP_HOME=~/Downloads/stanford-corenlp-full-2018-02-27/"
   ]
  },
  {
   "cell_type": "code",
   "execution_count": 27,
   "metadata": {},
   "outputs": [],
   "source": [
    "nlp = corenlp.CoreNLPClient()"
   ]
  },
  {
   "cell_type": "code",
   "execution_count": 32,
   "metadata": {},
   "outputs": [
    {
     "name": "stdout",
     "output_type": "stream",
     "text": [
      "It's a God-awful small affair\n",
      "To the girl with the mousy hair\n",
      "\n",
      "['It', \"'s\", 'a', 'God-awful', 'small', 'affair']\n",
      "['it', 'be', 'a', 'god-awful', 'small', 'affair']\n"
     ]
    }
   ],
   "source": [
    "ann = nlp.annotate(lines[0])\n",
    "tokens = [t.word for t in ann.sentence[0].token]\n",
    "lemmas = [t.lemma for t in ann.sentence[0].token]\n",
    "\n",
    "print(lines[0] + lines[1])\n",
    "print(tokens)\n",
    "print(lemmas)"
   ]
  },
  {
   "cell_type": "code",
   "execution_count": 52,
   "metadata": {},
   "outputs": [],
   "source": [
    "words = []\n",
    "\n",
    "labeledlines = []\n",
    "ignore_words = ['?', ',']\n",
    "\n",
    "for line in data:\n",
    "    nlpline = nlp.annotate(line['sentence'])\n",
    "    w = [t.lemma for t in nlpline.sentence[0].token]\n",
    "    w = [ele for ele in w if ele not in ignore_words]\n",
    "    words.extend(w)\n",
    "    labeledlines.append((w, line['class']))\n",
    "    \n",
    "\n",
    "words = list(set(words))"
   ]
  },
  {
   "cell_type": "code",
   "execution_count": 53,
   "metadata": {},
   "outputs": [
    {
     "data": {
      "text/plain": [
       "['fool',\n",
       " 'dog',\n",
       " 'you',\n",
       " 'selling',\n",
       " 'will',\n",
       " 'more',\n",
       " 'to',\n",
       " 'if',\n",
       " 'in',\n",
       " 'small',\n",
       " 'could',\n",
       " 'Lennon',\n",
       " 'dream',\n",
       " 'caveman',\n",
       " 'now',\n",
       " 'Mars',\n",
       " 'man',\n",
       " 'lawman',\n",
       " 'fight',\n",
       " 'cow',\n",
       " 'writ',\n",
       " 'sailor',\n",
       " 'those',\n",
       " 'freakiest',\n",
       " 'mummy',\n",
       " 'seat',\n",
       " 'they',\n",
       " 'best',\n",
       " 'clearest',\n",
       " 'view',\n",
       " 'i',\n",
       " 'of',\n",
       " 'strike',\n",
       " 'the',\n",
       " 'oh',\n",
       " 'write',\n",
       " 'there',\n",
       " 'girl',\n",
       " 'on',\n",
       " 'Britannia',\n",
       " 'with',\n",
       " 'horde',\n",
       " 'as',\n",
       " 'dance',\n",
       " 'saddening',\n",
       " 'that',\n",
       " 'sunken',\n",
       " 'my',\n",
       " 'grow',\n",
       " 'fame',\n",
       " 'guy',\n",
       " 'America',\n",
       " 'from',\n",
       " 'take',\n",
       " 'nowhere',\n",
       " 'friend',\n",
       " 'ask',\n",
       " 'worker',\n",
       " 'mouse',\n",
       " 'through',\n",
       " 'film',\n",
       " 'ever',\n",
       " 'for',\n",
       " 'wonder',\n",
       " 'bound',\n",
       " 'a',\n",
       " 'have',\n",
       " 'show',\n",
       " 'mother',\n",
       " 'he',\n",
       " 'hair',\n",
       " 'tortured',\n",
       " 'mousy',\n",
       " 'Norfolk',\n",
       " 'out',\n",
       " 'it',\n",
       " 'daddy',\n",
       " 'see',\n",
       " 'brow',\n",
       " 'up',\n",
       " 'eye',\n",
       " 'Ibiza',\n",
       " 'broad',\n",
       " 'go',\n",
       " 'again',\n",
       " 'no',\n",
       " 'tell',\n",
       " 'hooked',\n",
       " 'silver',\n",
       " 'sale',\n",
       " 'hall',\n",
       " 'yell',\n",
       " 'Mickey',\n",
       " 'but',\n",
       " 'clown',\n",
       " 'rule',\n",
       " \"'cause\",\n",
       " 'and',\n",
       " 'know',\n",
       " 'affair',\n",
       " 'beat',\n",
       " 'god-awful',\n",
       " \"'s\",\n",
       " 'spit',\n",
       " 'million',\n",
       " 'I',\n",
       " 'wrong',\n",
       " 'or',\n",
       " 'life',\n",
       " 'she',\n",
       " 'screen',\n",
       " 'live',\n",
       " 'be',\n",
       " 'ten',\n",
       " 'bear',\n",
       " 'look',\n",
       " \"'Cause\",\n",
       " 'about',\n",
       " 'focus',\n",
       " 'walk',\n",
       " 'at',\n",
       " 'time']"
      ]
     },
     "execution_count": 53,
     "metadata": {},
     "output_type": "execute_result"
    }
   ],
   "source": [
    "words"
   ]
  },
  {
   "cell_type": "code",
   "execution_count": 56,
   "metadata": {},
   "outputs": [],
   "source": [
    "data = []\n",
    "\n",
    "for line in labeledlines:\n",
    "    bag = []\n",
    "    lyrics = line[0]\n",
    "    for w in words:\n",
    "        bag.append(1) if w in lyrics else bag.append(0)\n",
    "        \n",
    "    classes = [0,0]\n",
    "    if line[1] == 'verse':\n",
    "        classes[0] = 1\n",
    "    elif line[1] == 'chorus':\n",
    "        classes[1] = 1\n",
    "\n",
    "    data.append([bag,classes])\n",
    "    \n"
   ]
  },
  {
   "cell_type": "code",
   "execution_count": 61,
   "metadata": {},
   "outputs": [
    {
     "name": "stdout",
     "output_type": "stream",
     "text": [
      "['be', 'there', 'life', 'on', 'Mars']\n",
      "[[0, 0, 0, 0, 0, 0, 0, 0, 0, 0, 0, 0, 0, 0, 0, 1, 0, 0, 0, 0, 0, 0, 0, 0, 0, 0, 0, 0, 0, 0, 0, 0, 0, 0, 0, 0, 1, 0, 1, 0, 0, 0, 0, 0, 0, 0, 0, 0, 0, 0, 0, 0, 0, 0, 0, 0, 0, 0, 0, 0, 0, 0, 0, 0, 0, 0, 0, 0, 0, 0, 0, 0, 0, 0, 0, 0, 0, 0, 0, 0, 0, 0, 0, 0, 0, 0, 0, 0, 0, 0, 0, 0, 0, 0, 0, 0, 0, 0, 0, 0, 0, 0, 0, 0, 0, 0, 0, 0, 1, 0, 0, 0, 1, 0, 0, 0, 0, 0, 0, 0, 0, 0], [0, 1]]\n"
     ]
    }
   ],
   "source": [
    "print (labeledlines[31][0])\n",
    "print (data[31])"
   ]
  }
 ],
 "metadata": {
  "kernelspec": {
   "display_name": "Python 3",
   "language": "python",
   "name": "python3"
  }
 },
 "nbformat": 4,
 "nbformat_minor": 2
}
