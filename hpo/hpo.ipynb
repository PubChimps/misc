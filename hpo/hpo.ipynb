{
 "cells": [
  {
   "cell_type": "code",
   "execution_count": 2,
   "metadata": {},
   "outputs": [
    {
     "name": "stderr",
     "output_type": "stream",
     "text": [
      "Using TensorFlow backend.\n"
     ]
    }
   ],
   "source": [
    "import keras\n",
    "import json\n",
    "import os.path\n",
    "from keras.datasets import mnist\n",
    "from keras.models import Sequential\n",
    "from keras.layers import Dense, Dropout, Conv2D, MaxPooling2D, Flatten\n",
    "from keras.optimizers import RMSprop\n",
    "import os\n",
    "from os import environ\n",
    "\n",
    "from keras.callbacks import TensorBoard\n",
    "from keras.callbacks import LambdaCallback\n"
   ]
  },
  {
   "cell_type": "code",
   "execution_count": 3,
   "metadata": {},
   "outputs": [
    {
     "name": "stdout",
     "output_type": "stream",
     "text": [
      "Downloading data from https://s3.amazonaws.com/img-datasets/mnist.npz\n",
      "11493376/11490434 [==============================] - 2s 0us/step\n"
     ]
    }
   ],
   "source": [
    "batch_size = 128\n",
    "num_classes = 10\n",
    "epochs = 10\n",
    "from sklearn.model_selection import train_test_split\n",
    "import pickle\n",
    "\n",
    "(X,y), (X_test,y_test) = mnist.load_data()\n",
    "X_train, X_valid, y_train, y_valid = train_test_split(X,y, test_size=.166, random_state=42)\n",
    "with open('mnist-nnm-train.pkl', 'wb') as f:\n",
    "    pickle.dump((X_train, y_train), f, protocol=pickle.HIGHEST_PROTOCOL)\n",
    "\n",
    "with open('mnist-nnm-valid.pkl', 'wb') as f:\n",
    "    pickle.dump((X_valid, y_valid), f, protocol=pickle.HIGHEST_PROTOCOL)\n",
    "\n",
    "with open('mnist-nnm-test.pkl', 'wb') as f:\n",
    "    pickle.dump((X_test, y_test), f, protocol=pickle.HIGHEST_PROTOCOL)"
   ]
  },
  {
   "cell_type": "code",
   "execution_count": 4,
   "metadata": {},
   "outputs": [],
   "source": [
    "with open('mnist-nnm-train.pkl', 'rb') as f:\n",
    "    (train_data, train_label) = pickle.load(f)\n",
    "    if (len(train_data.shape) == 3): \n",
    "        if('tensorflow' == 'tensorflow'):\n",
    "            train_data = train_data.reshape(train_data.shape[0], train_data.shape[1], train_data.shape[2], 1).astype('float32') / 255   \n",
    "        else:\n",
    "            train_data = train_data.reshape(train_data.shape[0], 1, train_data.shape[1], train_data.shape[2]).astype('float32') / 255   \n",
    "    if (len(train_label.shape) == 1) or (len(train_label.shape) == 2 and train_label.shape[1] == 1):\n",
    "        from keras.utils import np_utils\n",
    "        class_labels_count = len(set(train_label.flatten()))\n",
    "        train_label = np_utils.to_categorical(train_label, class_labels_count)\n",
    "    else:\n",
    "        class_labels_count = train_label.shape[1]"
   ]
  },
  {
   "cell_type": "code",
   "execution_count": 5,
   "metadata": {},
   "outputs": [],
   "source": [
    "val_data = []\n",
    "if('mnist-nnm-valid.pkl'):\n",
    "    with open('mnist-nnm-valid.pkl', 'rb') as f:\n",
    "        (val_data, val_label) = pickle.load(f)\n",
    "        if (len(val_data.shape) == 3):\n",
    "            if('tensorflow' == 'tensorflow'):\n",
    "                val_data = val_data.reshape(val_data.shape[0], val_data.shape[1], val_data.shape[2], 1).astype('float32') / 255\n",
    "            else:\n",
    "                val_data = val_data.reshape(val_data.shape[0], 1, val_data.shape[1], val_data.shape[2]).astype('float32') / 255\n",
    "        if (len(val_label.shape) == 1) or (len(val_label.shape) == 2 and val_label.shape[1] == 1):\n",
    "            from keras.utils import np_utils\n",
    "            val_label = np_utils.to_categorical(val_label, class_labels_count)"
   ]
  },
  {
   "cell_type": "code",
   "execution_count": 6,
   "metadata": {},
   "outputs": [],
   "source": [
    "test_data = []\n",
    "if('mnist-nnm-test.pkl'):\n",
    "    with open('mnist-nnm-test.pkl', 'rb') as f:\n",
    "        (test_data, test_label) = pickle.load(f)\n",
    "        if (len(test_data.shape) == 3):\n",
    "            if('tensorflow' == 'tensorflow'):\n",
    "                test_data = test_data.reshape(test_data.shape[0], test_data.shape[1], test_data.shape[2], 1).astype('float32') / 255\n",
    "            else:\n",
    "                test_data = test_data.reshape(test_data.shape[0], 1, test_data.shape[1], test_data.shape[2]).astype('float32') / 255\n",
    "        if (len(test_label.shape) == 1) or (len(test_label.shape) == 2 and test_label.shape[1] == 1):\n",
    "            from keras.utils import np_utils\n",
    "            test_label = np_utils.to_categorical(test_label, class_labels_count)"
   ]
  },
  {
   "cell_type": "code",
   "execution_count": 7,
   "metadata": {},
   "outputs": [],
   "source": [
    "train_data = train_data[0:1000]\n",
    "train_label = train_label[0:1000]\n",
    "\n",
    "val_data = val_data[0:100]\n",
    "val_label = val_label[0:100]\n",
    "\n",
    "test_data = test_data[0:100]\n",
    "test_label = test_label[0:100]"
   ]
  },
  {
   "cell_type": "code",
   "execution_count": 49,
   "metadata": {},
   "outputs": [
    {
     "name": "stdout",
     "output_type": "stream",
     "text": [
      "_________________________________________________________________\n",
      "Layer (type)                 Output Shape              Param #   \n",
      "=================================================================\n",
      "conv2d_10 (Conv2D)           (None, 28, 28, 4)         8         \n",
      "_________________________________________________________________\n",
      "max_pooling2d_9 (MaxPooling2 (None, 14, 14, 4)         0         \n",
      "_________________________________________________________________\n",
      "flatten_10 (Flatten)         (None, 784)               0         \n",
      "_________________________________________________________________\n",
      "dense_13 (Dense)             (None, 10)                7850      \n",
      "=================================================================\n",
      "Total params: 7,858\n",
      "Trainable params: 7,858\n",
      "Non-trainable params: 0\n",
      "_________________________________________________________________\n"
     ]
    }
   ],
   "source": [
    "model = Sequential()\n",
    "model.add(Conv2D(4, kernel_size=(1, 1), strides=(1, 1), activation='relu', input_shape=train_data.shape[1:]))\n",
    "model.add(MaxPooling2D(pool_size=(2, 2), strides=(2, 2)))\n",
    "model.add(Flatten())\n",
    "model.add(Dense(num_classes, activation='softmax'))\n",
    "model.summary()"
   ]
  },
  {
   "cell_type": "code",
   "execution_count": 66,
   "metadata": {},
   "outputs": [
    {
     "name": "stdout",
     "output_type": "stream",
     "text": [
      "Train on 1000 samples, validate on 100 samples\n",
      "Epoch 1/10\n",
      "1000/1000 [==============================] - 1s 857us/step - loss: 1.9752e-06 - acc: 1.0000 - val_loss: 1.9390 - val_acc: 0.8500\n",
      "[-0.082618676, -0.070572853] \n",
      "\n",
      "\n",
      "Epoch 2/10\n",
      "1000/1000 [==============================] - 0s 48us/step - loss: 1.4586e-06 - acc: 1.0000 - val_loss: 1.9214 - val_acc: 0.8500\n",
      "[-0.078564182, -0.066164061] \n",
      "\n",
      "\n",
      "Epoch 3/10\n",
      "1000/1000 [==============================] - 0s 51us/step - loss: 1.0538e-06 - acc: 1.0000 - val_loss: 1.9262 - val_acc: 0.8500\n",
      "[-0.075574763, -0.062933728] \n",
      "\n",
      "\n",
      "Epoch 4/10\n",
      "1000/1000 [==============================] - 0s 69us/step - loss: 1.0551e-06 - acc: 1.0000 - val_loss: 1.9295 - val_acc: 0.8500\n",
      "[-0.072895609, -0.059915192] \n",
      "\n",
      "\n",
      "Epoch 5/10\n",
      "1000/1000 [==============================] - 0s 47us/step - loss: 9.4444e-07 - acc: 1.0000 - val_loss: 1.8971 - val_acc: 0.8500\n",
      "[-0.069015302, -0.055998918] \n",
      "\n",
      "\n",
      "Epoch 6/10\n",
      "1000/1000 [==============================] - 0s 71us/step - loss: 8.6803e-07 - acc: 1.0000 - val_loss: 1.9401 - val_acc: 0.8500\n",
      "[-0.064577051, -0.051612243] \n",
      "\n",
      "\n",
      "Epoch 7/10\n",
      "1000/1000 [==============================] - 0s 74us/step - loss: 8.7786e-07 - acc: 1.0000 - val_loss: 1.9313 - val_acc: 0.8500\n",
      "[-0.060491178, -0.047291737] \n",
      "\n",
      "\n",
      "Epoch 8/10\n",
      "1000/1000 [==============================] - 0s 49us/step - loss: 7.7755e-07 - acc: 1.0000 - val_loss: 1.9646 - val_acc: 0.8500\n",
      "[-0.055082314, -0.041739441] \n",
      "\n",
      "\n",
      "Epoch 9/10\n",
      "1000/1000 [==============================] - 0s 69us/step - loss: 7.6360e-07 - acc: 1.0000 - val_loss: 1.9170 - val_acc: 0.8500\n",
      "[-0.050316416, -0.037517849] \n",
      "\n",
      "\n",
      "Epoch 10/10\n",
      "1000/1000 [==============================] - 0s 72us/step - loss: 7.3553e-07 - acc: 1.0000 - val_loss: 1.9428 - val_acc: 0.8500\n",
      "[-0.045727905, -0.032576773] \n",
      "\n",
      "\n",
      "Learning rate:  0.00470616138972089\n",
      "Test loss: 1.1346987629\n",
      "Test accuracy: 0.88\n",
      "\n"
     ]
    }
   ],
   "source": [
    "print_weights = LambdaCallback(on_epoch_end=lambda batch, logs: print([model.layers[0].get_weights()[1][1],model.layers[0].get_weights()[1][3]], '\\n\\n'))\n",
    "\n",
    "model.compile(loss='categorical_crossentropy',\n",
    "              optimizer=RMSprop(lr=.001),\n",
    "              metrics=['accuracy'])\n",
    "\n",
    "\n",
    "\n",
    "history = model.fit(train_data, train_label,\n",
    "                    batch_size=batch_size,\n",
    "                    epochs=epochs,\n",
    "                    validation_data=(val_data, val_label),\n",
    "                    callbacks = [print_weights])\n",
    "\n",
    "\n",
    "\n",
    "    #print(\"Training history:\" + str(history.history))\n",
    "\n",
    "score = model.evaluate(test_data, test_label, verbose=0)\n",
    "print('Learning rate: ', rate)\n",
    "print('Test loss:', score[0])\n",
    "print('Test accuracy:', score[1])\n",
    "print()\n"
   ]
  },
  {
   "cell_type": "code",
   "execution_count": 63,
   "metadata": {},
   "outputs": [
    {
     "name": "stdout",
     "output_type": "stream",
     "text": [
      "Learning rate:  0.006223363349255782\n",
      "Test loss: 1.0274930264\n",
      "Test accuracy: 0.89\n",
      "\n",
      "Learning rate:  0.00922439176771949\n",
      "Test loss: 1.11073339033\n",
      "Test accuracy: 0.89\n",
      "\n",
      "Learning rate:  0.004136950877084511\n",
      "Test loss: 1.08300776355\n",
      "Test accuracy: 0.89\n",
      "\n",
      "Learning rate:  0.002969408467028411\n",
      "Test loss: 1.16545931348\n",
      "Test accuracy: 0.89\n",
      "\n",
      "Learning rate:  0.00828743255947171\n",
      "Test loss: 1.00033042821\n",
      "Test accuracy: 0.9\n",
      "\n",
      "Learning rate:  0.009113602478041181\n",
      "Test loss: 0.999704417568\n",
      "Test accuracy: 0.9\n",
      "\n",
      "Learning rate:  0.009918517143838065\n",
      "Test loss: 1.00830812201\n",
      "Test accuracy: 0.89\n",
      "\n",
      "Learning rate:  0.0025412695851533833\n",
      "Test loss: 1.11020659208\n",
      "Test accuracy: 0.89\n",
      "\n",
      "Learning rate:  0.009191889747518826\n",
      "Test loss: 1.11185001254\n",
      "Test accuracy: 0.88\n",
      "\n",
      "Learning rate:  0.00470616138972089\n",
      "Test loss: 1.11637908459\n",
      "Test accuracy: 0.88\n",
      "\n"
     ]
    }
   ],
   "source": [
    "print_weights = LambdaCallback(on_epoch_end=lambda batch, logs: print([model.layers[0].get_weights()[1][1],model.layers[0].get_weights()[1][3]], '\\n\\n'))\n",
    "\n",
    "learningrates = [random.uniform(.001,.01) for l in range(10)]\n",
    "for rate in learningrates:\n",
    "    model.compile(loss='categorical_crossentropy',\n",
    "              optimizer=RMSprop(lr=rate),\n",
    "              metrics=['accuracy'])\n",
    "\n",
    "\n",
    "\n",
    "    history = model.fit(train_data, train_label,\n",
    "                    batch_size=batch_size,\n",
    "                    epochs=epochs,\n",
    "                    validation_data=(val_data, val_label),\n",
    "                    verbose=0)\n",
    "\n",
    "\n",
    "\n",
    "    #print(\"Training history:\" + str(history.history))\n",
    "\n",
    "    score = model.evaluate(test_data, test_label, verbose=0)\n",
    "    print('Learning rate: ', rate)\n",
    "    print('Test loss:', score[0])\n",
    "    print('Test accuracy:', score[1])\n",
    "    print()\n",
    "\n",
    "\n"
   ]
  },
  {
   "cell_type": "code",
   "execution_count": null,
   "metadata": {},
   "outputs": [],
   "source": []
  }
 ],
 "metadata": {
  "kernelspec": {
   "display_name": "Python 3.5",
   "language": "python",
   "name": "python3"
  },
  "language_info": {
   "codemirror_mode": {
    "name": "ipython",
    "version": 3
   },
   "file_extension": ".py",
   "mimetype": "text/x-python",
   "name": "python",
   "nbconvert_exporter": "python",
   "pygments_lexer": "ipython3",
   "version": "3.5.4"
  }
 },
 "nbformat": 4,
 "nbformat_minor": 1
}
