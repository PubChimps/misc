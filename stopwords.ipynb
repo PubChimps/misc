{
 "cells": [
  {
   "cell_type": "code",
   "execution_count": 54,
   "metadata": {},
   "outputs": [],
   "source": [
    "import re\n",
    "import csv\n",
    "import json\n",
    "import operator\n",
    "import numpy as np\n",
    "from watson_developer_cloud import NaturalLanguageClassifierV1"
   ]
  },
  {
   "cell_type": "code",
   "execution_count": 12,
   "metadata": {},
   "outputs": [],
   "source": [
    "data = np.load(\"fullsetcompressed.npz\",encoding='latin1')\n",
    "data = data.f.arr_0"
   ]
  },
  {
   "cell_type": "code",
   "execution_count": 14,
   "metadata": {},
   "outputs": [],
   "source": [
    "trainingdata = data[0:100]\n",
    "testdata = data[100:200]"
   ]
  },
  {
   "cell_type": "code",
   "execution_count": 48,
   "metadata": {
    "collapsed": true
   },
   "outputs": [],
   "source": [
    "def buildstoplist():\n",
    "    index = {}\n",
    "    wordcount = 0\n",
    "    wordprob = {}\n",
    "    stopwords = []\n",
    "    for i in trainingdata:\n",
    "        #for char in i[0]:\n",
    "        #    char = re.sub('[^a-zA-Z0-9 \\n\\.]', '', char)\n",
    "        for word in i[0].split():\n",
    "            word = re.sub('[^a-zA-Z0-9 \\n\\.]', '', word)\n",
    "            if word != '':\n",
    "                wordcount += 1\n",
    "                if word not in index:\n",
    "                    index[word] = 1\n",
    "                else:\n",
    "                    index[word] += 1\n",
    "    \n",
    "    for word in index.iterkeys():\n",
    "        wordprob[word] = round(float(index[word])/wordcount*100,4)\n",
    "        \n",
    "    stoplist = sorted(wordprob.iteritems(), key=operator.itemgetter(1) ,reverse=True)[:20]\n",
    "    \n",
    "    for i in stoplist:\n",
    "        stopwords.append(i[0])\n",
    "    \n",
    "    return stoplist, stopwords"
   ]
  },
  {
   "cell_type": "code",
   "execution_count": 49,
   "metadata": {},
   "outputs": [],
   "source": [
    "stoplist,stopwords = buildstoplist()"
   ]
  },
  {
   "cell_type": "code",
   "execution_count": 50,
   "metadata": {},
   "outputs": [
    {
     "data": {
      "text/plain": [
       "['the',\n",
       " 'return',\n",
       " 'if',\n",
       " 'to',\n",
       " 'import',\n",
       " 'for',\n",
       " 'public',\n",
       " 'a',\n",
       " 'is',\n",
       " 'in',\n",
       " 'of',\n",
       " 'this',\n",
       " 'new',\n",
       " 'var',\n",
       " 'and',\n",
       " 'or',\n",
       " 'file',\n",
       " 'License',\n",
       " 'private',\n",
       " 'final']"
      ]
     },
     "execution_count": 50,
     "metadata": {},
     "output_type": "execute_result"
    }
   ],
   "source": [
    "stopwords"
   ]
  },
  {
   "cell_type": "code",
   "execution_count": 16,
   "metadata": {
    "collapsed": true
   },
   "outputs": [],
   "source": [
    "def removestopwords(line, stoplist):\n",
    "    pattern = re.compile(r'\\b(' + r'|'.join(stopwords) + r')\\b\\s*')\n",
    "    return pattern.sub('', line)"
   ]
  },
  {
   "cell_type": "code",
   "execution_count": 51,
   "metadata": {},
   "outputs": [],
   "source": [
    "chunk = 1024\n",
    "\n",
    "with open('stopwords.csv', 'w') as csvfile:\n",
    "    fieldnames = ['text', 'pl']\n",
    "    writer = csv.DictWriter(csvfile, fieldnames=fieldnames)\n",
    "    for i in trainingdata:\n",
    "        for j in range(0,len(i[0]),chunk):\n",
    "            text = re.sub(' +',' ',\" \".join(re.split(r'[^\\w]', re.sub(re.compile(\"/\\*.*?\\*/\",re.DOTALL ) ,\"\" ,i[0][j:j+chunk]))))   \n",
    "            if text == '':\n",
    "                continue\n",
    "            else:\n",
    "                writer.writerow({'text': text, 'pl': i[1]})\n",
    "                \n",
    "with open('nostopwords.csv', 'w') as csvfile:\n",
    "    fieldnames = ['text', 'pl']\n",
    "    writer = csv.DictWriter(csvfile, fieldnames=fieldnames)\n",
    "    for i in trainingdata:\n",
    "        processedtext = removestopwords(i[0],stopwords)\n",
    "        for j in range(0,len(processedtext),chunk):\n",
    "            text = re.sub(' +',' ',\" \".join(re.split(r'[^\\w]', re.sub(re.compile(\"/\\*.*?\\*/\",re.DOTALL ) ,\"\" ,processedtext[j:j+chunk]))))   \n",
    "            if text == '':\n",
    "                continue\n",
    "            else:\n",
    "                writer.writerow({'text': text, 'pl': i[1]})"
   ]
  },
  {
   "cell_type": "code",
   "execution_count": 52,
   "metadata": {},
   "outputs": [],
   "source": [
    "username=\"c01269a1-fe44-49be-94ba-6f257c263911\"\n",
    "password=\"Xe2LNum2uHwM\"\n",
    "\n",
    "classifier_id = \"pynotpy-natural-la-1510788551714\"\n",
    "natural_language_classifier = NaturalLanguageClassifierV1(\n",
    "    username=username,\n",
    "    password=password)"
   ]
  },
  {
   "cell_type": "code",
   "execution_count": 63,
   "metadata": {},
   "outputs": [
    {
     "name": "stdout",
     "output_type": "stream",
     "text": [
      "{\n",
      "  \"status\": \"Training\", \n",
      "  \"name\": \"stopwords\", \n",
      "  \"language\": \"en\", \n",
      "  \"created\": \"2018-03-02T21:08:40.480Z\", \n",
      "  \"url\": \"https://gateway.watsonplatform.net/natural-language-classifier/api/v1/classifiers/8fbfc9x295-nlc-3659\", \n",
      "  \"status_description\": \"The classifier instance is in its training phase, not yet ready to accept classify requests\", \n",
      "  \"classifier_id\": \"8fbfc9x295-nlc-3659\"\n",
      "}\n",
      "{\n",
      "  \"status\": \"Training\", \n",
      "  \"name\": \"nostopwords\", \n",
      "  \"language\": \"en\", \n",
      "  \"created\": \"2018-03-02T21:08:41.733Z\", \n",
      "  \"url\": \"https://gateway.watsonplatform.net/natural-language-classifier/api/v1/classifiers/8fc193x296-nlc-3698\", \n",
      "  \"status_description\": \"The classifier instance is in its training phase, not yet ready to accept classify requests\", \n",
      "  \"classifier_id\": \"8fc193x296-nlc-3698\"\n",
      "}\n"
     ]
    }
   ],
   "source": [
    "with open('stopwords.csv', 'rb') as stopwords:\n",
    "    print(json.dumps(natural_language_classifier.create(training_data=stopwords, name='stopwords'), indent=2))\n",
    "    \n",
    "with open('nostopwords.csv', 'rb') as nostopwords:\n",
    "    print(json.dumps(natural_language_classifier.create(training_data=nostopwords, name='nostopwords'), indent=2))"
   ]
  },
  {
   "cell_type": "code",
   "execution_count": 68,
   "metadata": {},
   "outputs": [
    {
     "data": {
      "text/plain": [
       "{u'classifier_id': u'8fc193x296-nlc-3698',\n",
       " u'created': u'2018-03-02T21:08:41.733Z',\n",
       " u'language': u'en',\n",
       " u'name': u'nostopwords',\n",
       " u'status': u'Available',\n",
       " u'status_description': u'The classifier instance is now available and is ready to take classifier requests.',\n",
       " u'url': u'https://gateway.watsonplatform.net/natural-language-classifier/api/v1/classifiers/8fc193x296-nlc-3698'}"
      ]
     },
     "execution_count": 68,
     "metadata": {},
     "output_type": "execute_result"
    }
   ],
   "source": [
    "natural_language_classifier.status(\"8fc193x296-nlc-3698\")"
   ]
  },
  {
   "cell_type": "code",
   "execution_count": 65,
   "metadata": {},
   "outputs": [],
   "source": [
    "def compute_watson_accuracy(testdata, classifier_id):\n",
    "    count = 0\n",
    "    for i in testdata:\n",
    "        x = natural_language_classifier.classify(classifier_id,re.sub(' +',' ',\" \".join(re.split(r'[^\\w]', re.sub(re.compile(\"/\\*.*?\\*/\",re.DOTALL ) ,\"\" ,i[0]))))[0:1024])\n",
    "        if x['top_class'] == i[1]:\n",
    "            count += 1\n",
    "    return float(count)/len(testdata)"
   ]
  },
  {
   "cell_type": "code",
   "execution_count": 69,
   "metadata": {
    "collapsed": true
   },
   "outputs": [],
   "source": [
    "acc1 = compute_watson_accuracy(testdata,\"8fbfc9x295-nlc-3659\")\n",
    "acc2 = compute_watson_accuracy(testdata,\"8fc193x296-nlc-3698\")"
   ]
  },
  {
   "cell_type": "code",
   "execution_count": 71,
   "metadata": {},
   "outputs": [
    {
     "name": "stdout",
     "output_type": "stream",
     "text": [
      "0.85 0.86\n"
     ]
    }
   ],
   "source": [
    "print acc1, acc2"
   ]
  },
  {
   "cell_type": "code",
   "execution_count": null,
   "metadata": {
    "collapsed": true
   },
   "outputs": [],
   "source": []
  }
 ],
 "metadata": {
  "kernelspec": {
   "display_name": "Python 2",
   "language": "python",
   "name": "python2"
  },
  "language_info": {
   "codemirror_mode": {
    "name": "ipython",
    "version": 2
   },
   "file_extension": ".py",
   "mimetype": "text/x-python",
   "name": "python",
   "nbconvert_exporter": "python",
   "pygments_lexer": "ipython2",
   "version": "2.7.13"
  }
 },
 "nbformat": 4,
 "nbformat_minor": 2
}
