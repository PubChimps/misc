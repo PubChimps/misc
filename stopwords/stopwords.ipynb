{
 "cells": [
  {
   "cell_type": "markdown",
   "metadata": {},
   "source": [
    "# Stop words"
   ]
  },
  {
   "cell_type": "code",
   "execution_count": 1,
   "metadata": {
    "collapsed": true
   },
   "outputs": [],
   "source": [
    "import re\n",
    "import csv\n",
    "import json\n",
    "import operator\n",
    "import numpy as np\n",
    "from watson_developer_cloud import NaturalLanguageClassifierV1"
   ]
  },
  {
   "cell_type": "markdown",
   "metadata": {},
   "source": [
    "dataset is a random sample from IBM's GitHub repositories. the dataset is split into training and testing set equally in order to induce high variance, which will then be reduced by removing stop words "
   ]
  },
  {
   "cell_type": "code",
   "execution_count": 2,
   "metadata": {
    "collapsed": true
   },
   "outputs": [],
   "source": [
    "data = np.load(\"data.npz\",encoding='latin1')\n",
    "data = data.f.arr_0"
   ]
  },
  {
   "cell_type": "code",
   "execution_count": 3,
   "metadata": {
    "collapsed": true
   },
   "outputs": [],
   "source": [
    "trainingdata = data[0:100]\n",
    "testdata = data[100:200]"
   ]
  },
  {
   "cell_type": "code",
   "execution_count": 52,
   "metadata": {
    "collapsed": true
   },
   "outputs": [],
   "source": [
    "def buildstoplist():\n",
    "    index = {}\n",
    "    wordcount = 0\n",
    "    wordprob = {}\n",
    "    stopwords = []\n",
    "    for i in trainingdata:\n",
    "        for word in i[0].split():\n",
    "            word = re.sub('[^a-zA-Z0-9 \\n\\.]', '', word)\n",
    "            if word != '':\n",
    "                wordcount += 1\n",
    "                if word not in index:\n",
    "                    index[word] = 1\n",
    "                else:\n",
    "                    index[word] += 1\n",
    "    \n",
    "    for word in index.iterkeys():\n",
    "        wordprob[word] = round(float(index[word])/wordcount*100,4)\n",
    "        \n",
    "    stoplist = sorted(wordprob.iteritems(), key=operator.itemgetter(1) ,reverse=True)[:10]\n",
    "    \n",
    "    for i in stoplist:\n",
    "        stopwords.append(i[0])\n",
    "    \n",
    "    #stoplist contains tuples of the stop words ranked by the percentage of total word occurances\n",
    "    #stopwords is a list of these words\n",
    "    return stoplist, stopwords"
   ]
  },
  {
   "cell_type": "code",
   "execution_count": 53,
   "metadata": {
    "collapsed": true
   },
   "outputs": [],
   "source": [
    "stoplist,stopwords = buildstoplist()"
   ]
  },
  {
   "cell_type": "code",
   "execution_count": 29,
   "metadata": {},
   "outputs": [
    {
     "data": {
      "text/plain": [
       "[('the', 3.3051),\n",
       " ('return', 1.4292),\n",
       " ('if', 1.2332),\n",
       " ('to', 1.2201),\n",
       " ('import', 1.147),\n",
       " ('for', 1.0346),\n",
       " ('public', 0.9928),\n",
       " ('a', 0.8727),\n",
       " ('is', 0.776),\n",
       " ('in', 0.7499)]"
      ]
     },
     "execution_count": 29,
     "metadata": {},
     "output_type": "execute_result"
    }
   ],
   "source": [
    "stoplist"
   ]
  },
  {
   "cell_type": "code",
   "execution_count": 30,
   "metadata": {},
   "outputs": [
    {
     "data": {
      "text/plain": [
       "['the', 'return', 'if', 'to', 'import', 'for', 'public', 'a', 'is', 'in']"
      ]
     },
     "execution_count": 30,
     "metadata": {},
     "output_type": "execute_result"
    }
   ],
   "source": [
    "stopwords"
   ]
  },
  {
   "cell_type": "code",
   "execution_count": 71,
   "metadata": {},
   "outputs": [
    {
     "data": {
      "image/png": "[encoded data removed]",
      "text/plain": [
       "<matplotlib.figure.Figure at 0x107b974d0>"
      ]
     },
     "metadata": {},
     "output_type": "display_data"
    }
   ],
   "source": [
    "import matplotlib.pyplot as plt\n",
    "import numpy as np\n",
    "\n",
    "# Data for plotting, translating ranks and percentages to a log-log plot\n",
    "t = np.array([np.log2(1), np.log2(2), np.log2(3),np.log2(4),np.log2(5),np.log2(6),np.log2(7),np.log2(8),np.log2(9),np.log2(10)])\n",
    "s = np.array([np.log2(3.3051), np.log2(1.4292), np.log2(1.2332), np.log2(1.2201), np.log2(1.147), np.log2(1.0346), np.log2(.9928), np.log2(.8727), np.log2(.776), np.log2(.7499)])\n",
    "\n",
    "\n",
    "#adding a best fit line so the linearity of the log-log plot can be observed\n",
    "fig, ax = plt.subplots()\n",
    "m, b = np.polyfit(t, s, 1)\n",
    "ax.plot(t, m*t + b, '-')\n",
    "ax.plot(t, s)\n",
    "\n",
    "ax.set(xlabel='Rank (word)', ylabel='Percentage of Occurances',\n",
    "       title=\"Zipf's Law Observed\")\n",
    "ax.grid()\n",
    "\n",
    "fig.savefig(\"test.png\")\n",
    "plt.show()\n",
    "\n"
   ]
  },
  {
   "cell_type": "code",
   "execution_count": 8,
   "metadata": {
    "collapsed": true
   },
   "outputs": [],
   "source": [
    "def removestopwords(line, stoplist):\n",
    "    pattern = re.compile(r'\\b(' + r'|'.join(stopwords) + r')\\b\\s*')\n",
    "    return pattern.sub('', line)"
   ]
  },
  {
   "cell_type": "code",
   "execution_count": 31,
   "metadata": {
    "collapsed": true
   },
   "outputs": [],
   "source": [
    "chunk = 1024\n",
    "\n",
    "with open('stopwords.csv', 'w') as csvfile:\n",
    "    fieldnames = ['text', 'pl']\n",
    "    writer = csv.DictWriter(csvfile, fieldnames=fieldnames)\n",
    "    for i in trainingdata:\n",
    "        for j in range(0,len(i[0]),chunk):\n",
    "            text = re.sub(' +',' ',\" \".join(re.split(r'[^\\w]', re.sub(re.compile(\"/\\*.*?\\*/\",re.DOTALL ) ,\"\" ,i[0][j:j+chunk]))))   \n",
    "            if text == '':\n",
    "                continue\n",
    "            else:\n",
    "                writer.writerow({'text': text, 'pl': i[1]})\n",
    "                \n",
    "with open('nostopwords.csv', 'w') as csvfile:\n",
    "    fieldnames = ['text', 'pl']\n",
    "    writer = csv.DictWriter(csvfile, fieldnames=fieldnames)\n",
    "    for i in trainingdata:\n",
    "        #below is the extra line used to remove stop words\n",
    "        processedtext = removestopwords(i[0],stopwords)\n",
    "        for j in range(0,len(processedtext),chunk):\n",
    "            text = re.sub(' +',' ',\" \".join(re.split(r'[^\\w]', re.sub(re.compile(\"/\\*.*?\\*/\",re.DOTALL ) ,\"\" ,processedtext[j:j+chunk]))))   \n",
    "            if text == '':\n",
    "                continue\n",
    "            else:\n",
    "                writer.writerow({'text': text, 'pl': i[1]})"
   ]
  },
  {
   "cell_type": "markdown",
   "metadata": {},
   "source": [
    "Get a username and password for Watson Natural Language Classifier at IBM Cloud\n",
    "https://console.bluemix.net/catalog/services/natural-language-classifier"
   ]
  },
  {
   "cell_type": "code",
   "execution_count": 32,
   "metadata": {
    "collapsed": true
   },
   "outputs": [],
   "source": [
    "username=\"USERNAME\"\n",
    "password=\"PASSWORD\"\n",
    "\n",
    "classifier_id = \"CLASSIFIER ID\"\n",
    "natural_language_classifier = NaturalLanguageClassifierV1(\n",
    "    username=username,\n",
    "    password=password)"
   ]
  },
  {
   "cell_type": "code",
   "execution_count": 44,
   "metadata": {},
   "outputs": [
    {
     "name": "stdout",
     "output_type": "stream",
     "text": [
      "{\n",
      "  \"status\": \"Training\", \n",
      "  \"name\": \"stopwords\", \n",
      "  \"language\": \"en\", \n",
      "  \"created\": \"2018-03-05T05:45:28.297Z\", \n",
      "  \"url\": \"https://gateway.watsonplatform.net/natural-language-classifier/api/v1/classifiers/8fc31cx297-nlc-3731\", \n",
      "  \"status_description\": \"The classifier instance is in its training phase, not yet ready to accept classify requests\", \n",
      "  \"classifier_id\": \"8fc31cx297-nlc-3731\"\n",
      "}\n",
      "{\n",
      "  \"status\": \"Training\", \n",
      "  \"name\": \"nostopwords\", \n",
      "  \"language\": \"en\", \n",
      "  \"created\": \"2018-03-05T05:45:30.455Z\", \n",
      "  \"url\": \"https://gateway.watsonplatform.net/natural-language-classifier/api/v1/classifiers/8fc4f0x298-nlc-3911\", \n",
      "  \"status_description\": \"The classifier instance is in its training phase, not yet ready to accept classify requests\", \n",
      "  \"classifier_id\": \"8fc4f0x298-nlc-3911\"\n",
      "}\n"
     ]
    }
   ],
   "source": [
    "with open('stopwords.csv', 'rb') as stopwords:\n",
    "    print(json.dumps(natural_language_classifier.create(training_data=stopwords, name='stopwords'), indent=2))\n",
    "\n",
    "with open('nostopwords.csv', 'rb') as nostopwords:\n",
    "    print(json.dumps(natural_language_classifier.create(training_data=nostopwords, name='nostopwords'), indent=2))"
   ]
  },
  {
   "cell_type": "code",
   "execution_count": 72,
   "metadata": {
    "collapsed": true
   },
   "outputs": [],
   "source": [
    "stopwordsclassifier = \"8fc31cx297-nlc-3731\"\n",
    "nostopwordsclassifier = \"8fc4f0x298-nlc-3911\""
   ]
  },
  {
   "cell_type": "code",
   "execution_count": 46,
   "metadata": {},
   "outputs": [
    {
     "data": {
      "text/plain": [
       "{u'classifier_id': u'8fc4f0x298-nlc-3911',\n",
       " u'created': u'2018-03-05T05:45:30.455Z',\n",
       " u'language': u'en',\n",
       " u'name': u'nostopwords',\n",
       " u'status': u'Training',\n",
       " u'status_description': u'The classifier instance is in its training phase, not yet ready to accept classify requests',\n",
       " u'url': u'https://gateway.watsonplatform.net/natural-language-classifier/api/v1/classifiers/8fc4f0x298-nlc-3911'}"
      ]
     },
     "execution_count": 46,
     "metadata": {},
     "output_type": "execute_result"
    }
   ],
   "source": [
    "natural_language_classifier.status(\"8fc4f0x298-nlc-3911\")"
   ]
  },
  {
   "cell_type": "code",
   "execution_count": 47,
   "metadata": {},
   "outputs": [
    {
     "data": {
      "text/plain": [
       "{u'classifier_id': u'8fc4f0x298-nlc-3911',\n",
       " u'created': u'2018-03-05T05:45:30.455Z',\n",
       " u'language': u'en',\n",
       " u'name': u'nostopwords',\n",
       " u'status': u'Available',\n",
       " u'status_description': u'The classifier instance is now available and is ready to take classifier requests.',\n",
       " u'url': u'https://gateway.watsonplatform.net/natural-language-classifier/api/v1/classifiers/8fc4f0x298-nlc-3911'}"
      ]
     },
     "execution_count": 47,
     "metadata": {},
     "output_type": "execute_result"
    }
   ],
   "source": [
    "natural_language_classifier.status(\"8fc4f0x298-nlc-3911\")"
   ]
  },
  {
   "cell_type": "code",
   "execution_count": 24,
   "metadata": {
    "collapsed": true
   },
   "outputs": [],
   "source": [
    "def compute_watson_accuracy(testdata, classifier_id):\n",
    "    count = 0\n",
    "    for i in testdata:\n",
    "        x = natural_language_classifier.classify(classifier_id,re.sub(' +',' ',\" \".join(re.split(r'[^\\w]', re.sub(re.compile(\"/\\*.*?\\*/\",re.DOTALL ) ,\"\" ,i[0]))))[0:1024])\n",
    "        if x['top_class'] == i[1]:\n",
    "            count += 1\n",
    "    return float(count)/len(testdata)"
   ]
  },
  {
   "cell_type": "code",
   "execution_count": 48,
   "metadata": {
    "collapsed": true
   },
   "outputs": [],
   "source": [
    "acc1 = compute_watson_accuracy(testdata,stopwordsclassifier)\n",
    "acc2 = compute_watson_accuracy(testdata, nostopwordclassifier)"
   ]
  },
  {
   "cell_type": "code",
   "execution_count": 49,
   "metadata": {},
   "outputs": [
    {
     "name": "stdout",
     "output_type": "stream",
     "text": [
      "0.85 0.86\n"
     ]
    }
   ],
   "source": [
    "print acc1, acc2"
   ]
  },
  {
   "cell_type": "code",
   "execution_count": 50,
   "metadata": {},
   "outputs": [
    {
     "name": "stdout",
     "output_type": "stream",
     "text": [
      "-rw-r--r--@ 1 nickacosta  staff  313102 Mar  4 23:42 nostopwords.csv\r\n",
      "-rw-r--r--@ 1 nickacosta  staff  333678 Mar  4 23:39 stopwords.csv\r\n"
     ]
    }
   ],
   "source": [
    "!ls -al *csv"
   ]
  }
 ],
 "metadata": {
  "kernelspec": {
   "display_name": "Python 2",
   "language": "python",
   "name": "python2"
  },
  "language_info": {
   "codemirror_mode": {
    "name": "ipython",
    "version": 2
   },
   "file_extension": ".py",
   "mimetype": "text/x-python",
   "name": "python",
   "nbconvert_exporter": "python",
   "pygments_lexer": "ipython2",
   "version": "2.7.13"
  }
 },
 "nbformat": 4,
 "nbformat_minor": 2
}
